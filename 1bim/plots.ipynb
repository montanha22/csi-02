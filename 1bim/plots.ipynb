{
 "cells": [
  {
   "cell_type": "markdown",
   "source": [
    "# Creating plots"
   ],
   "metadata": {}
  },
  {
   "cell_type": "markdown",
   "source": [
    "## 0) Imports and definitions"
   ],
   "metadata": {}
  },
  {
   "cell_type": "code",
   "execution_count": 43,
   "source": [
    "# Standard\r\n",
    "import pandas as pd\r\n",
    "import numpy as np\r\n",
    "from datetime import datetime\r\n",
    "\r\n",
    "# Viz\r\n",
    "import matplotlib.pyplot as plt\r\n",
    "import plotly\r\n",
    "\r\n",
    "# Other\r\n",
    "import zeep\r\n",
    "import json\r\n",
    "import urllib\r\n",
    "import requests"
   ],
   "outputs": [],
   "metadata": {}
  },
  {
   "cell_type": "markdown",
   "source": [
    "## 1) WSDL"
   ],
   "metadata": {}
  },
  {
   "cell_type": "code",
   "execution_count": 44,
   "source": [
    "wsdl = './FachadaWSSGS.wsdl'\r\n",
    "client = zeep.Client(wsdl=wsdl)"
   ],
   "outputs": [],
   "metadata": {}
  },
  {
   "cell_type": "code",
   "execution_count": 45,
   "source": [
    "long_array_type = client.get_type('ns0:ArrayOfflong')\r\n",
    "r = client.service.getValoresSeriesVO(long_array_type([7384]), '01/01/2000', '05/04/2021')\r\n",
    "aux = zeep.helpers.serialize_object(r[0]['valores'])"
   ],
   "outputs": [],
   "metadata": {}
  },
  {
   "cell_type": "code",
   "execution_count": 46,
   "source": [
    "df_vendas = pd.DataFrame(aux)\r\n",
    "df_vendas['valor'] = df_vendas['valor'].apply(lambda x: int(x['_value_1']))\r\n",
    "df_vendas.head()"
   ],
   "outputs": [
    {
     "output_type": "execute_result",
     "data": {
      "text/html": [
       "<div>\n",
       "<style scoped>\n",
       "    .dataframe tbody tr th:only-of-type {\n",
       "        vertical-align: middle;\n",
       "    }\n",
       "\n",
       "    .dataframe tbody tr th {\n",
       "        vertical-align: top;\n",
       "    }\n",
       "\n",
       "    .dataframe thead th {\n",
       "        text-align: right;\n",
       "    }\n",
       "</style>\n",
       "<table border=\"1\" class=\"dataframe\">\n",
       "  <thead>\n",
       "    <tr style=\"text-align: right;\">\n",
       "      <th></th>\n",
       "      <th>ano</th>\n",
       "      <th>anoFim</th>\n",
       "      <th>bloqueado</th>\n",
       "      <th>bloqueioLiberado</th>\n",
       "      <th>dia</th>\n",
       "      <th>diaFim</th>\n",
       "      <th>mes</th>\n",
       "      <th>mesFim</th>\n",
       "      <th>oid</th>\n",
       "      <th>oidSerie</th>\n",
       "      <th>svalor</th>\n",
       "      <th>valor</th>\n",
       "    </tr>\n",
       "  </thead>\n",
       "  <tbody>\n",
       "    <tr>\n",
       "      <th>0</th>\n",
       "      <td>2000</td>\n",
       "      <td>1800</td>\n",
       "      <td>False</td>\n",
       "      <td>True</td>\n",
       "      <td>1</td>\n",
       "      <td>1</td>\n",
       "      <td>1</td>\n",
       "      <td>1</td>\n",
       "      <td>1220468</td>\n",
       "      <td>7384</td>\n",
       "      <td>{'_value_1': '69984', 'id': None, 'href': None...</td>\n",
       "      <td>69984</td>\n",
       "    </tr>\n",
       "    <tr>\n",
       "      <th>1</th>\n",
       "      <td>2000</td>\n",
       "      <td>1800</td>\n",
       "      <td>False</td>\n",
       "      <td>True</td>\n",
       "      <td>1</td>\n",
       "      <td>1</td>\n",
       "      <td>2</td>\n",
       "      <td>1</td>\n",
       "      <td>1220469</td>\n",
       "      <td>7384</td>\n",
       "      <td>{'_value_1': '82262', 'id': None, 'href': None...</td>\n",
       "      <td>82262</td>\n",
       "    </tr>\n",
       "    <tr>\n",
       "      <th>2</th>\n",
       "      <td>2000</td>\n",
       "      <td>1800</td>\n",
       "      <td>False</td>\n",
       "      <td>True</td>\n",
       "      <td>1</td>\n",
       "      <td>1</td>\n",
       "      <td>3</td>\n",
       "      <td>1</td>\n",
       "      <td>1220470</td>\n",
       "      <td>7384</td>\n",
       "      <td>{'_value_1': '76748', 'id': None, 'href': None...</td>\n",
       "      <td>76748</td>\n",
       "    </tr>\n",
       "    <tr>\n",
       "      <th>3</th>\n",
       "      <td>2000</td>\n",
       "      <td>1800</td>\n",
       "      <td>False</td>\n",
       "      <td>True</td>\n",
       "      <td>1</td>\n",
       "      <td>1</td>\n",
       "      <td>4</td>\n",
       "      <td>1</td>\n",
       "      <td>1220471</td>\n",
       "      <td>7384</td>\n",
       "      <td>{'_value_1': '91613', 'id': None, 'href': None...</td>\n",
       "      <td>91613</td>\n",
       "    </tr>\n",
       "    <tr>\n",
       "      <th>4</th>\n",
       "      <td>2000</td>\n",
       "      <td>1800</td>\n",
       "      <td>False</td>\n",
       "      <td>True</td>\n",
       "      <td>1</td>\n",
       "      <td>1</td>\n",
       "      <td>5</td>\n",
       "      <td>1</td>\n",
       "      <td>1220472</td>\n",
       "      <td>7384</td>\n",
       "      <td>{'_value_1': '98154', 'id': None, 'href': None...</td>\n",
       "      <td>98154</td>\n",
       "    </tr>\n",
       "  </tbody>\n",
       "</table>\n",
       "</div>"
      ],
      "text/plain": [
       "    ano  anoFim  bloqueado  bloqueioLiberado  dia  diaFim  mes  mesFim  \\\n",
       "0  2000    1800      False              True    1       1    1       1   \n",
       "1  2000    1800      False              True    1       1    2       1   \n",
       "2  2000    1800      False              True    1       1    3       1   \n",
       "3  2000    1800      False              True    1       1    4       1   \n",
       "4  2000    1800      False              True    1       1    5       1   \n",
       "\n",
       "       oid  oidSerie                                             svalor  valor  \n",
       "0  1220468      7384  {'_value_1': '69984', 'id': None, 'href': None...  69984  \n",
       "1  1220469      7384  {'_value_1': '82262', 'id': None, 'href': None...  82262  \n",
       "2  1220470      7384  {'_value_1': '76748', 'id': None, 'href': None...  76748  \n",
       "3  1220471      7384  {'_value_1': '91613', 'id': None, 'href': None...  91613  \n",
       "4  1220472      7384  {'_value_1': '98154', 'id': None, 'href': None...  98154  "
      ]
     },
     "metadata": {},
     "execution_count": 46
    }
   ],
   "metadata": {}
  },
  {
   "cell_type": "markdown",
   "source": [
    "## 3) Data POA "
   ],
   "metadata": {}
  },
  {
   "cell_type": "code",
   "execution_count": 47,
   "source": [
    "url = 'https://dadosabertos.poa.br/api/3/action/datastore_search?resource_id=b56f8123-716a-4893-9348-23945f1ea1b9'\r\n",
    "\r\n",
    "r = requests.get(url)\r\n",
    "data_json = r.json()"
   ],
   "outputs": [],
   "metadata": {}
  },
  {
   "cell_type": "code",
   "execution_count": 48,
   "source": [
    "df_acidentes = pd.DataFrame.from_dict(data_json['result']['records'])\r\n",
    "df_acidentes.head()"
   ],
   "outputs": [
    {
     "output_type": "execute_result",
     "data": {
      "text/html": [
       "<div>\n",
       "<style scoped>\n",
       "    .dataframe tbody tr th:only-of-type {\n",
       "        vertical-align: middle;\n",
       "    }\n",
       "\n",
       "    .dataframe tbody tr th {\n",
       "        vertical-align: top;\n",
       "    }\n",
       "\n",
       "    .dataframe thead th {\n",
       "        text-align: right;\n",
       "    }\n",
       "</style>\n",
       "<table border=\"1\" class=\"dataframe\">\n",
       "  <thead>\n",
       "    <tr style=\"text-align: right;\">\n",
       "      <th></th>\n",
       "      <th>_id</th>\n",
       "      <th>data_extracao</th>\n",
       "      <th>predial1</th>\n",
       "      <th>queda_arr</th>\n",
       "      <th>data</th>\n",
       "      <th>feridos</th>\n",
       "      <th>feridos_gr</th>\n",
       "      <th>mortes</th>\n",
       "      <th>morte_post</th>\n",
       "      <th>fatais</th>\n",
       "      <th>...</th>\n",
       "      <th>longitude</th>\n",
       "      <th>latitude</th>\n",
       "      <th>log1</th>\n",
       "      <th>log2</th>\n",
       "      <th>tipo_acid</th>\n",
       "      <th>dia_sem</th>\n",
       "      <th>hora</th>\n",
       "      <th>noite_dia</th>\n",
       "      <th>regiao</th>\n",
       "      <th>consorcio</th>\n",
       "    </tr>\n",
       "  </thead>\n",
       "  <tbody>\n",
       "    <tr>\n",
       "      <th>0</th>\n",
       "      <td>1</td>\n",
       "      <td>2021-09-01T01:33:40</td>\n",
       "      <td>0</td>\n",
       "      <td>0</td>\n",
       "      <td>2020-10-17T00:00:00</td>\n",
       "      <td>1</td>\n",
       "      <td>0</td>\n",
       "      <td>0</td>\n",
       "      <td>0</td>\n",
       "      <td>0</td>\n",
       "      <td>...</td>\n",
       "      <td>0.000000</td>\n",
       "      <td>0.000000</td>\n",
       "      <td>R MARCOS MOREIRA</td>\n",
       "      <td>R GASTON ENGLERT</td>\n",
       "      <td>ABALROAMENTO</td>\n",
       "      <td>SÁBADO</td>\n",
       "      <td>19:00:00.0000000</td>\n",
       "      <td>NOITE</td>\n",
       "      <td>NORTE</td>\n",
       "      <td></td>\n",
       "    </tr>\n",
       "    <tr>\n",
       "      <th>1</th>\n",
       "      <td>2</td>\n",
       "      <td>2021-09-01T01:33:40</td>\n",
       "      <td>8487</td>\n",
       "      <td>0</td>\n",
       "      <td>2016-01-01T00:00:00</td>\n",
       "      <td>0</td>\n",
       "      <td>0</td>\n",
       "      <td>0</td>\n",
       "      <td>1</td>\n",
       "      <td>1</td>\n",
       "      <td>...</td>\n",
       "      <td>-51.095216</td>\n",
       "      <td>-30.134588</td>\n",
       "      <td>ESTR JOAO DE OLIVEIRA REMIAO</td>\n",
       "      <td></td>\n",
       "      <td>CHOQUE</td>\n",
       "      <td>SEXTA-FEIRA</td>\n",
       "      <td>12:00:00.0000000</td>\n",
       "      <td>DIA</td>\n",
       "      <td>LESTE</td>\n",
       "      <td></td>\n",
       "    </tr>\n",
       "    <tr>\n",
       "      <th>2</th>\n",
       "      <td>3</td>\n",
       "      <td>2021-09-01T01:33:40</td>\n",
       "      <td>0</td>\n",
       "      <td>0</td>\n",
       "      <td>2016-01-02T00:00:00</td>\n",
       "      <td>1</td>\n",
       "      <td>0</td>\n",
       "      <td>0</td>\n",
       "      <td>0</td>\n",
       "      <td>0</td>\n",
       "      <td>...</td>\n",
       "      <td>-51.200627</td>\n",
       "      <td>-30.004450</td>\n",
       "      <td>AV EDVALDO PEREIRA PAIVA</td>\n",
       "      <td></td>\n",
       "      <td>QUEDA</td>\n",
       "      <td>SÁBADO</td>\n",
       "      <td>06:30:00.0000000</td>\n",
       "      <td>DIA</td>\n",
       "      <td>NORTE</td>\n",
       "      <td></td>\n",
       "    </tr>\n",
       "    <tr>\n",
       "      <th>3</th>\n",
       "      <td>4</td>\n",
       "      <td>2021-09-01T01:33:40</td>\n",
       "      <td>240</td>\n",
       "      <td>0</td>\n",
       "      <td>2016-01-02T00:00:00</td>\n",
       "      <td>1</td>\n",
       "      <td>0</td>\n",
       "      <td>0</td>\n",
       "      <td>0</td>\n",
       "      <td>0</td>\n",
       "      <td>...</td>\n",
       "      <td>-51.218421</td>\n",
       "      <td>-30.046960</td>\n",
       "      <td>AV ERICO VERISSIMO</td>\n",
       "      <td></td>\n",
       "      <td>ABALROAMENTO</td>\n",
       "      <td>SÁBADO</td>\n",
       "      <td>18:30:00.0000000</td>\n",
       "      <td>NOITE</td>\n",
       "      <td>CENTRO</td>\n",
       "      <td>STS</td>\n",
       "    </tr>\n",
       "    <tr>\n",
       "      <th>4</th>\n",
       "      <td>5</td>\n",
       "      <td>2021-09-01T01:33:40</td>\n",
       "      <td>2084</td>\n",
       "      <td>0</td>\n",
       "      <td>2016-01-02T00:00:00</td>\n",
       "      <td>3</td>\n",
       "      <td>0</td>\n",
       "      <td>0</td>\n",
       "      <td>0</td>\n",
       "      <td>0</td>\n",
       "      <td>...</td>\n",
       "      <td>-51.129850</td>\n",
       "      <td>-30.093210</td>\n",
       "      <td>ESTR JOAO DE OLIVEIRA REMIAO</td>\n",
       "      <td></td>\n",
       "      <td>CHOQUE</td>\n",
       "      <td>SÁBADO</td>\n",
       "      <td>20:15:00.0000000</td>\n",
       "      <td>NOITE</td>\n",
       "      <td>LESTE</td>\n",
       "      <td></td>\n",
       "    </tr>\n",
       "  </tbody>\n",
       "</table>\n",
       "<p>5 rows × 35 columns</p>\n",
       "</div>"
      ],
      "text/plain": [
       "   _id        data_extracao  predial1  queda_arr                 data  \\\n",
       "0    1  2021-09-01T01:33:40         0          0  2020-10-17T00:00:00   \n",
       "1    2  2021-09-01T01:33:40      8487          0  2016-01-01T00:00:00   \n",
       "2    3  2021-09-01T01:33:40         0          0  2016-01-02T00:00:00   \n",
       "3    4  2021-09-01T01:33:40       240          0  2016-01-02T00:00:00   \n",
       "4    5  2021-09-01T01:33:40      2084          0  2016-01-02T00:00:00   \n",
       "\n",
       "   feridos  feridos_gr  mortes  morte_post  fatais  ...  longitude   latitude  \\\n",
       "0        1           0       0           0       0  ...   0.000000   0.000000   \n",
       "1        0           0       0           1       1  ... -51.095216 -30.134588   \n",
       "2        1           0       0           0       0  ... -51.200627 -30.004450   \n",
       "3        1           0       0           0       0  ... -51.218421 -30.046960   \n",
       "4        3           0       0           0       0  ... -51.129850 -30.093210   \n",
       "\n",
       "                           log1              log2     tipo_acid      dia_sem  \\\n",
       "0              R MARCOS MOREIRA  R GASTON ENGLERT  ABALROAMENTO       SÁBADO   \n",
       "1  ESTR JOAO DE OLIVEIRA REMIAO                          CHOQUE  SEXTA-FEIRA   \n",
       "2      AV EDVALDO PEREIRA PAIVA                           QUEDA       SÁBADO   \n",
       "3            AV ERICO VERISSIMO                    ABALROAMENTO       SÁBADO   \n",
       "4  ESTR JOAO DE OLIVEIRA REMIAO                          CHOQUE       SÁBADO   \n",
       "\n",
       "               hora  noite_dia  regiao  consorcio  \n",
       "0  19:00:00.0000000      NOITE   NORTE             \n",
       "1  12:00:00.0000000        DIA   LESTE             \n",
       "2  06:30:00.0000000        DIA   NORTE             \n",
       "3  18:30:00.0000000      NOITE  CENTRO        STS  \n",
       "4  20:15:00.0000000      NOITE   LESTE             \n",
       "\n",
       "[5 rows x 35 columns]"
      ]
     },
     "metadata": {},
     "execution_count": 48
    }
   ],
   "metadata": {}
  },
  {
   "cell_type": "markdown",
   "source": [
    "## 4) Auxiliary functions"
   ],
   "metadata": {}
  },
  {
   "cell_type": "markdown",
   "source": [
    "## 5) Plots"
   ],
   "metadata": {}
  },
  {
   "cell_type": "code",
   "execution_count": 53,
   "source": [
    "df = df_acidentes.copy()"
   ],
   "outputs": [],
   "metadata": {}
  },
  {
   "cell_type": "code",
   "execution_count": 62,
   "source": [
    "bool_list = ['mortes']\r\n",
    "bool_values = [0]\r\n",
    "\r\n",
    "df_aux = df.copy()\r\n",
    "for col, value, in zip(bool_list, bool_values):\r\n",
    "    print(col, value)\r\n",
    "    df_aux = df_aux[df_aux[col] == value]"
   ],
   "outputs": [
    {
     "output_type": "stream",
     "name": "stdout",
     "text": [
      "mortes 0\n"
     ]
    }
   ],
   "metadata": {}
  },
  {
   "cell_type": "code",
   "execution_count": 64,
   "source": [
    "df_aux.columns"
   ],
   "outputs": [
    {
     "output_type": "execute_result",
     "data": {
      "text/plain": [
       "Index(['_id', 'data_extracao', 'predial1', 'queda_arr', 'data', 'feridos',\n",
       "       'feridos_gr', 'mortes', 'morte_post', 'fatais', 'auto', 'taxi',\n",
       "       'lotacao', 'onibus_urb', 'onibus_met', 'onibus_int', 'caminhao', 'moto',\n",
       "       'carroca', 'bicicleta', 'outro', 'cont_vit', 'ups', 'patinete',\n",
       "       'idacidente', 'longitude', 'latitude', 'log1', 'log2', 'tipo_acid',\n",
       "       'dia_sem', 'hora', 'noite_dia', 'regiao', 'consorcio'],\n",
       "      dtype='object')"
      ]
     },
     "metadata": {},
     "execution_count": 64
    }
   ],
   "metadata": {}
  },
  {
   "cell_type": "code",
   "execution_count": 61,
   "source": [
    "df_acidentes['mortes'].value_counts()"
   ],
   "outputs": [
    {
     "output_type": "execute_result",
     "data": {
      "text/plain": [
       "0    100\n",
       "Name: mortes, dtype: int64"
      ]
     },
     "metadata": {},
     "execution_count": 61
    }
   ],
   "metadata": {}
  },
  {
   "cell_type": "markdown",
   "source": [],
   "metadata": {}
  }
 ],
 "metadata": {
  "orig_nbformat": 4,
  "language_info": {
   "name": "python",
   "version": "3.9.5",
   "mimetype": "text/x-python",
   "codemirror_mode": {
    "name": "ipython",
    "version": 3
   },
   "pygments_lexer": "ipython3",
   "nbconvert_exporter": "python",
   "file_extension": ".py"
  },
  "kernelspec": {
   "name": "python3",
   "display_name": "Python 3.9.5 64-bit ('base': conda)"
  },
  "interpreter": {
   "hash": "b49bac40a39f8959250ca6787eee91708ce98dd908f509e815191b916022ba83"
  }
 },
 "nbformat": 4,
 "nbformat_minor": 2
}